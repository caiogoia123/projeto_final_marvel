{
  "cells": [
    {
      "cell_type": "code",
      "execution_count": 3,
      "metadata": {
        "id": "Vf7GRPiIRngJ"
      },
      "outputs": [],
      "source": [
        "import requests\n",
        "import hashlib\n",
        "import time\n",
        "from marvel import Marvel"
      ]
    },
    {
      "cell_type": "code",
      "execution_count": 4,
      "metadata": {
        "id": "0jigGhzEbukQ"
      },
      "outputs": [],
      "source": [
        "marvel = Marvel(PUBLIC_KEY=\"\", PRIVATE_KEY=\"\")"
      ]
    },
    {
      "cell_type": "code",
      "execution_count": 5,
      "metadata": {
        "id": "NuXGYZLYb4LJ"
      },
      "outputs": [],
      "source": [
        "characters = marvel.characters.all()\n"
      ]
    },
    {
      "cell_type": "code",
      "execution_count": 6,
      "metadata": {
        "id": "s6a4og6rcDGA"
      },
      "outputs": [],
      "source": [
        "my_char = characters.all(nameStartsWith=\"Black\")[\"data\"][\"results\"]"
      ]
    }
  ],
  "metadata": {
    "colab": {
      "provenance": []
    },
    "kernelspec": {
      "display_name": "Python 3",
      "name": "python3"
    },
    "language_info": {
      "name": "python"
    }
  },
  "nbformat": 4,
  "nbformat_minor": 0
}
