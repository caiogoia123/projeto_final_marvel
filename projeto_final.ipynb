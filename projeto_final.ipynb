{
  "cells": [
    {
      "cell_type": "code",
      "execution_count": null,
      "metadata": {
        "id": "wZB_j0_OhB55"
      },
      "outputs": [],
      "source": [
        "import requests\n",
        "import hashlib\n",
        "import time\n",
        "import datetime\n",
        "from google.colab import userdata\n",
        "import pandas as pd\n",
        "import sqlite3"
      ]
    },
    {
      "cell_type": "code",
      "execution_count": null,
      "metadata": {
        "id": "51S5K0YWkixq"
      },
      "outputs": [],
      "source": [
        "public_key=userdata.get('public_key_marvel')\n",
        "private_key=userdata.get('private_key_marvel')\n",
        "timestamp = str(time.time())\n",
        "md5_hash= timestamp + private_key + public_key\n",
        "md5_hash = hashlib.md5(md5_hash.encode(\"utf-8\")).hexdigest()"
      ]
    },
    {
      "cell_type": "code",
      "execution_count": null,
      "metadata": {
        "id": "Co8gjULP8FvD"
      },
      "outputs": [],
      "source": [
        "# Modifique a URL para o endpoint de personagens\n",
        "url = f\"https://gateway.marvel.com/v1/public/characters?ts={timestamp}&apikey={public_key}&hash={md5_hash}\"\n",
        "\n",
        "# Código de tratamento dos dados\n",
        "response = requests.get(url)\n",
        "if response.status_code == 200:\n",
        "    data = response.json()\n",
        "    print(f\"Total de personagens: {data['data']['total']}\")\n",
        "    for char in data['data']['results'][:5]:\n",
        "        print(char)"
      ]
    },
    {
      "cell_type": "code",
      "source": [
        "# Modifique a URL para o endpoint de quadrinhos\n",
        "url = f\"https://gateway.marvel.com/v1/public/comics?ts={timestamp}&apikey={public_key}&hash={md5_hash}\"\n",
        "\n",
        "# Código de tratamento dos dados\n",
        "response = requests.get(url)\n",
        "if response.status_code == 200:\n",
        "    data = response.json()\n",
        "    print(f\"Total de quadrinhos: {data['data']['total']}\")\n",
        "    for comic in data['data']['results'][:5]:\n",
        "        print(comic)"
      ],
      "metadata": {
        "id": "-mdvQ1KVJA0y"
      },
      "execution_count": null,
      "outputs": []
    },
    {
      "cell_type": "code",
      "source": [
        "data = pd.DataFrame(data['data']['results'])\n",
        "data.head()"
      ],
      "metadata": {
        "id": "Xs-fTdMsJkK5"
      },
      "execution_count": null,
      "outputs": []
    },
    {
      "cell_type": "markdown",
      "source": [
        "# Criação do banco de dados para os characters"
      ],
      "metadata": {
        "id": "_x6KiIcs2CWt"
      }
    },
    {
      "cell_type": "code",
      "source": [
        "DB_NAME = 'marvel_full.db'\n",
        "MAX_RETRIES = 3  # Tentativas por requisição\n",
        "DELAY = 1  # Atraso entre requisições em segundos"
      ],
      "metadata": {
        "id": "4B5KL0Lb2Me2"
      },
      "execution_count": null,
      "outputs": []
    },
    {
      "cell_type": "code",
      "source": [
        "# Função para pegar todos os personagens\n",
        "def get_all_characters():\n",
        "    conn = sqlite3.connect(DB_NAME)\n",
        "    cursor = conn.cursor()\n",
        "\n",
        "    offset = 0\n",
        "    total = None\n",
        "    inserted = 0\n",
        "\n",
        "    while True:\n",
        "        for attempt in range(MAX_RETRIES):\n",
        "            try:\n",
        "                # Autenticação\n",
        "                ts = str(time.time())\n",
        "                hash_input = ts + private_key + public_key\n",
        "                md5_hash = hashlib.md5(hash_input.encode()).hexdigest()\n",
        "\n",
        "                params = {\n",
        "                    'ts': ts,\n",
        "                    'apikey': public_key,\n",
        "                    'hash': md5_hash,\n",
        "                    'limit': 100,\n",
        "                    'offset': offset\n",
        "                }\n",
        "\n",
        "                response = requests.get(\n",
        "                    'https://gateway.marvel.com/v1/public/characters',\n",
        "                    params=params,\n",
        "                    timeout=10\n",
        "                )\n",
        "                response.raise_for_status()\n",
        "\n",
        "                data = response.json()\n",
        "                total = data['data']['total'] if total is None else total\n",
        "                results = data['data']['results']\n",
        "\n",
        "                # Inserir no banco\n",
        "                for char in results:\n",
        "                    cursor.execute('''\n",
        "                        INSERT OR REPLACE INTO characters\n",
        "                        VALUES (?, ?, ?, ?, ?, ?, ?, ?, ?, ?)\n",
        "                    ''', (\n",
        "                        char['id'],\n",
        "                        char['name'],\n",
        "                        char.get('description', ''),\n",
        "                        char['modified'],\n",
        "                        char['comics']['available'],\n",
        "                        char['series']['available'],\n",
        "                        char['stories']['available'],\n",
        "                        char['events']['available'],\n",
        "                        str(char['urls']),\n",
        "                        f\"{char['thumbnail']['path']}.{char['thumbnail']['extension']}\"\n",
        "                        if char['thumbnail'] else None\n",
        "                    ))\n",
        "\n",
        "                conn.commit()\n",
        "                inserted += len(results)\n",
        "                print(f\"Progresso: {inserted}/{total} ({inserted/total:.1%})\")\n",
        "\n",
        "                # Verificar se terminou\n",
        "                if offset + len(results) >= total:\n",
        "                    print(\"\\nTodos os personagens foram armazenados!\")\n",
        "                    return\n",
        "\n",
        "                offset += 100\n",
        "                time.sleep(DELAY)\n",
        "                break  # Sai do loop de tentativas\n",
        "\n",
        "            except requests.exceptions.RequestException as e:\n",
        "                print(f\"Erro na requisição (tentativa {attempt+1}): {str(e)}\")\n",
        "                time.sleep(2 ** attempt)  # Backoff exponencial\n",
        "                continue\n",
        "        else:\n",
        "            print(\"Falha após múltiplas tentativas. Abortando...\")\n",
        "            break\n",
        "\n",
        "    conn.close()"
      ],
      "metadata": {
        "id": "td87tOYZ2GZA"
      },
      "execution_count": null,
      "outputs": []
    },
    {
      "cell_type": "code",
      "source": [
        "# Função para criar o banco\n",
        "def create_database():\n",
        "    conn = sqlite3.connect(DB_NAME)\n",
        "    cursor = conn.cursor()\n",
        "\n",
        "    cursor.execute('''\n",
        "    CREATE TABLE IF NOT EXISTS characters (\n",
        "        id INTEGER PRIMARY KEY,\n",
        "        name TEXT NOT NULL,\n",
        "        description TEXT,\n",
        "        modified TEXT,\n",
        "        comics_available INTEGER,\n",
        "        series_available INTEGER,\n",
        "        stories_available INTEGER,\n",
        "        events_available INTEGER,\n",
        "        urls TEXT,\n",
        "        thumbnail TEXT\n",
        "    )''')\n",
        "\n",
        "    conn.commit()\n",
        "    conn.close()"
      ],
      "metadata": {
        "id": "aLqFYEQ02oCH"
      },
      "execution_count": null,
      "outputs": []
    },
    {
      "cell_type": "code",
      "source": [
        "create_database()\n",
        "get_all_characters()\n",
        "\n",
        "# Verificar\n",
        "conn = sqlite3.connect(DB_NAME)\n",
        "cursor = conn.cursor()\n",
        "cursor.execute(\"SELECT COUNT(*) FROM characters\")\n",
        "print(f\"\\nTotal no banco: {cursor.fetchone()[0]} personagens\")\n",
        "conn.close()"
      ],
      "metadata": {
        "id": "hHhL7fUE2i-8"
      },
      "execution_count": null,
      "outputs": []
    },
    {
      "cell_type": "markdown",
      "source": [
        "# Mostrando o banco marvel_full"
      ],
      "metadata": {
        "id": "j4d7r9ZmuVlg"
      }
    },
    {
      "cell_type": "code",
      "source": [
        "def show_table_sample():\n",
        "    conn = sqlite3.connect('marvel_full.db')\n",
        "    df = pd.read_sql(\"SELECT * FROM characters\", conn)\n",
        "    conn.close()\n",
        "\n",
        "    print(\"\\nAmostra dos dados:\")\n",
        "    print(f\"Dimensões: {df.shape[0]} linhas x {df.shape[1]} colunas\")\n",
        "    return df\n",
        "\n",
        "show_table_sample()"
      ],
      "metadata": {
        "id": "RRdl6uSbyk-y"
      },
      "execution_count": null,
      "outputs": []
    }
  ],
  "metadata": {
    "colab": {
      "provenance": []
    },
    "kernelspec": {
      "display_name": "Python 3",
      "name": "python3"
    },
    "language_info": {
      "name": "python"
    }
  },
  "nbformat": 4,
  "nbformat_minor": 0
}