{
  "cells": [
    {
      "cell_type": "code",
      "execution_count": 21,
      "metadata": {
        "id": "wZB_j0_OhB55"
      },
      "outputs": [],
      "source": [
        "import requests\n",
        "import hashlib\n",
        "import time\n"
      ]
    },
    {
      "cell_type": "code",
      "execution_count": null,
      "metadata": {
        "colab": {
          "base_uri": "https://localhost:8080/"
        },
        "id": "51S5K0YWkixq",
        "outputId": "224d0cff-ddcd-4a93-a622-4cf0aad39d99"
      },
      "outputs": [],
      "source": [
        "public_key=\" \"\n",
        "private_key=\" \"\n",
        "timestamp = str(time.time())\n",
        "\n",
        "\n",
        "md5_hash= timestamp + private_key + public_key\n",
        "md5_hash = hashlib.md5(md5_hash.encode(\"utf-8\")).hexdigest()\n",
        "\n",
        "print(md5_hash)"
      ]
    },
    {
      "cell_type": "code",
      "execution_count": null,
      "metadata": {
        "colab": {
          "base_uri": "https://localhost:8080/"
        },
        "id": "HVj4YWAWlDbR",
        "outputId": "9202947b-efa3-4aee-a36a-d7d482f281b7"
      },
      "outputs": [],
      "source": [
        "# PASSO 4: Testar a URL manualmente (cole no navegador)\n",
        "url = f\"https://gateway.marvel.com/v1/public/characters?ts={timestamp}&apikey={public_key}&hash={md5_hash}\"\n",
        "print(\"\\nURL para testar manualmente:\")\n",
        "print(url)"
      ]
    },
    {
      "cell_type": "code",
      "execution_count": null,
      "metadata": {
        "colab": {
          "base_uri": "https://localhost:8080/"
        },
        "id": "MTkEfJZEtmbC",
        "outputId": "85f54a60-76ee-4efc-d5e6-d4a73db5249d"
      },
      "outputs": [],
      "source": [
        "!pip install marvel"
      ]
    },
    {
      "cell_type": "code",
      "execution_count": 64,
      "metadata": {
        "id": "uBf-cGUxt_fX"
      },
      "outputs": [],
      "source": [
        "from marvel import Marvel"
      ]
    },
    {
      "cell_type": "code",
      "execution_count": 65,
      "metadata": {
        "id": "ixCBAis6uCGw"
      },
      "outputs": [],
      "source": [
        "marvel = Marvel(PUBLIC_KEY=public_key, PRIVATE_KEY=private_key)\n",
        "\n",
        "characters = marvel.characters"
      ]
    },
    {
      "cell_type": "code",
      "execution_count": 66,
      "metadata": {
        "id": "XrFZG_ZiuKFL"
      },
      "outputs": [],
      "source": [
        "my_char = characters.all(nameStartsWith=\"Spider\")[\"data\"][\"results\"]"
      ]
    },
    {
      "cell_type": "code",
      "execution_count": null,
      "metadata": {
        "colab": {
          "base_uri": "https://localhost:8080/"
        },
        "id": "fuHULzeIuVBU",
        "outputId": "22511a5e-7b64-4631-eb68-263757f492c8"
      },
      "outputs": [],
      "source": [
        "for char in my_char:\n",
        "    print(char[\"name\"])"
      ]
    },
    {
      "cell_type": "code",
      "execution_count": 71,
      "metadata": {
        "id": "R3rBiMuLwp55"
      },
      "outputs": [],
      "source": [
        "events = marvel.events\n",
        "my_events = events.all()"
      ]
    },
    {
      "cell_type": "code",
      "execution_count": null,
      "metadata": {
        "colab": {
          "base_uri": "https://localhost:8080/"
        },
        "id": "DwSgGYNRw3Oq",
        "outputId": "07aebc47-409b-4681-dcbf-e802f8aeb078"
      },
      "outputs": [],
      "source": [
        "for i in my_events[\"data\"][\"results\"]:\n",
        "    print(i)"
      ]
    }
  ],
  "metadata": {
    "colab": {
      "provenance": [],
      "toc_visible": true
    },
    "kernelspec": {
      "display_name": "Python 3",
      "name": "python3"
    },
    "language_info": {
      "name": "python"
    }
  },
  "nbformat": 4,
  "nbformat_minor": 0
}
