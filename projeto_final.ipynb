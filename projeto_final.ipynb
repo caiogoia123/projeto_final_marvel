{
  "cells": [
    {
      "cell_type": "code",
      "execution_count": null,
      "metadata": {
        "id": "MTkEfJZEtmbC",
        "collapsed": true
      },
      "outputs": [],
      "source": [
        "!pip install marvel"
      ]
    },
    {
      "cell_type": "code",
      "execution_count": 55,
      "metadata": {
        "id": "wZB_j0_OhB55"
      },
      "outputs": [],
      "source": [
        "import requests\n",
        "import hashlib\n",
        "import time\n",
        "from google.colab import userdata\n",
        "from marvel import Marvel"
      ]
    },
    {
      "cell_type": "code",
      "execution_count": 56,
      "metadata": {
        "id": "51S5K0YWkixq"
      },
      "outputs": [],
      "source": [
        "public_key=userdata.get('public_key_marvel')\n",
        "private_key=userdata.get('private_key_marvel')\n",
        "timestamp = str(time.time())\n",
        "md5_hash= timestamp + private_key + public_key\n",
        "md5_hash = hashlib.md5(md5_hash.encode(\"utf-8\")).hexdigest()\n"
      ]
    },
    {
      "cell_type": "code",
      "source": [
        "# Modifique a URL para o endpoint de personagens\n",
        "url = f\"https://gateway.marvel.com/v1/public/characters?ts={timestamp}&apikey={public_key}&hash={md5_hash}\"\n",
        "\n",
        "# Código de tratamento dos dados\n",
        "response = requests.get(url)\n",
        "if response.status_code == 200:\n",
        "    data = response.json()\n",
        "    print(f\"Total de personagens: {data['data']['total']}\")\n",
        "    for char in data['data']['results'][:5]:\n",
        "        print(char)"
      ],
      "metadata": {
        "id": "Co8gjULP8FvD"
      },
      "execution_count": null,
      "outputs": []
    }
  ],
  "metadata": {
    "colab": {
      "provenance": []
    },
    "kernelspec": {
      "display_name": "Python 3",
      "name": "python3"
    },
    "language_info": {
      "name": "python"
    }
  },
  "nbformat": 4,
  "nbformat_minor": 0
}